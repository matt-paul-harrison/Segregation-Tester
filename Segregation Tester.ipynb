{
 "cells": [
  {
   "cell_type": "code",
   "execution_count": 1,
   "metadata": {
    "collapsed": true
   },
   "outputs": [],
   "source": [
    "import numpy as np\n",
    "import matplotlib.pyplot as plt\n",
    "%matplotlib inline\n"
   ]
  },
  {
   "cell_type": "code",
   "execution_count": 293,
   "metadata": {},
   "outputs": [],
   "source": [
    "## Inspired by a question asked of me during a Google Quantitative Analyst interview, \n",
    "## this code implements a kernal nearest neighbors method to determine whether a given racial\n",
    "## (geographic) distribution is significantly worse than a random distribution with the same population parameters\n",
    "##\n",
    "## Data input takes the form of a 3 x N list, whose rows contain [Latitude, Longitude, Race] where Race may take\n",
    "## 1 of M values.  For this code we will represent 'Race' via an integer.\n",
    "##\n",
    "## Define a Class for cities, which will have functions which evaluate the segregation coefficient.  Allow the kernal\n",
    "## to vary as defined by the user, with a default.\n",
    "##\n",
    "## The kernal applies to individuals who have the same race, weighted by distance.  If the data are clustered by race,\n",
    "## The raw score will be higher than the randomized score, a ratio of 1 is no segregation\n",
    "##\n",
    "## It is shown below that we can conclude at very high levels of significance certain kinds of segregation (at least, others remain untested)\n",
    "## The kernal may be adjusted at will\n",
    "## Other improvements/tests:\n",
    "## 1. The distance matrix calculator is the time limiting step operating at O([N**2]/d) where N is population and d the number of races\n",
    "## 2. Have shown that the normalization accounts for global pop increases, have not tested nonuniform racial compositions\n",
    "## 3. Have only tested one kind of segregation, others may give different results\n",
    "## 4. Have not tested changing the size of the city, but the normalization **should** account for this\n",
    "##\n",
    "def random_generator(total_population=10**3,lat_extent=10**1,long_extent=10**1,num_races=2):\n",
    "    output_data=[]  ##Generates a random population\n",
    "    for i in range(total_population):\n",
    "        individual=[np.random.rand()*lat_extent,np.random.rand()*long_extent,np.random.randint(num_races)]\n",
    "        output_data.append(individual)\n",
    "    return output_data\n",
    "def lat_seg_generator(total_population=10**3,lat_extent=10**1,long_extent=10**1,num_races=2):\n",
    "    output_data=[] #Generates a population which is segregated somewhat by latitude\n",
    "    for i in range(total_population):\n",
    "        individual=[np.random.rand()*lat_extent,np.random.rand()*long_extent]\n",
    "        if individual[0]<.3*lat_extent:\n",
    "            individual.append(np.random.randint(num_races-1))\n",
    "        elif individual[0]>.7*lat_extent:\n",
    "            individual.append(np.random.randint(num_races-1)+1)\n",
    "        else:\n",
    "            individual.append(np.random.randint(num_races))\n",
    "\n",
    "        output_data.append(individual)\n",
    "    return output_data\n",
    "\n",
    "def gaussian_kernal(distance,sigma=20):\n",
    "    return(np.exp(-distance**2/sigma**2))\n",
    "\n",
    "def three_race_viewer(data_set):\n",
    "    data_set=np.array(data_set)\n",
    "    race1=[]\n",
    "    race2=[]\n",
    "    race3=[]\n",
    "    for i in range(len(data_set)):\n",
    "        if data_set[i,2]==0:\n",
    "            race1.append(data_set[i])\n",
    "        if data_set[i,2]==1:\n",
    "            race2.append(data_set[i])\n",
    "        if data_set[i,2]==2:\n",
    "            race3.append(data_set[i])\n",
    "    race1=np.array(race1)\n",
    "    race2=np.array(race2)\n",
    "    race3=np.array(race3)\n",
    "    plt.figure(figsize=[20,10])\n",
    "    plt.plot(race1[:,0],race1[:,1],'.',label='Race 1')\n",
    "    plt.plot(race2[:,0],race2[:,1],'.',label='Race 2')\n",
    "    plt.plot(race3[:,0],race3[:,1],'.',label='Race 3')\n",
    "    plt.legend(fontsize=14)\n",
    "    plt.show()\n",
    "class City:\n",
    "    def __init__(self,kernal=gaussian_kernal,input_data=[],total_population=10**3,num_races=2,lat_extent=10**1,long_extent=10**1):\n",
    "        if input_data==[]:\n",
    "            print(\"No data provided, initializing defaults\")\n",
    "            self.total_population=total_population #The total population of the city\n",
    "            self.num_races=num_races               #Number of potential values for \"race\"\n",
    "            self.lat_extent=lat_extent             #Lateral range of the city boundary\n",
    "            self.long_extent=long_extent           #Longitudinal range of the city boundary\n",
    "            self.kernal=kernal                     #Defines the default kernal\n",
    "            self.data_set=np.array(random_generator(total_population,lat_extent,long_extent,num_races))\n",
    "            \n",
    "        else:                                      #Or determine these quantities automatically from a premade data set\n",
    "            print(\"Input data loaded\")\n",
    "            self.total_population=len(input_data)\n",
    "            input_data=np.array(input_data)\n",
    "            self.num_races=int(np.max(input_data[:,2])+1)            \n",
    "            self.lat_extent=np.max(input_data[:,0])\n",
    "            self.long_extent=np.max(input_data[:,1])\n",
    "            self.kernal=kernal\n",
    "            self.data_set=np.array(input_data)\n",
    "    def sort_data(self):\n",
    "        self.data_set=self.data_set[np.argsort(self.data_set[:,2])]\n",
    "    def randomize(self):\n",
    "        np.random.shuffle(self.data_set[:,2])  #Produces a shuffled data set for normalization purposes\n",
    "    def distance_matrices(self):\n",
    "        self.sort_data()\n",
    "        ## Need a key that says how many of each race we have.  Length is num_races, element i is the number or individuals with race i\n",
    "        racelist=self.data_set[:,-1]\n",
    "        race_key=np.bincount([int(i) for i in racelist]) #How many of each race there are\n",
    "        boundary_indices=[]  #At which indices in data_set do we change races\n",
    "        for i in range(len(race_key)):\n",
    "            current_index=np.sum(race_key[:i])\n",
    "            boundary_indices.append(current_index)\n",
    "        D_matrix_stack=[] #Will be a stack of matrices as deep as num_races, each of which will be a pairwise distance matrix\n",
    "        for k in range(len(race_key)):\n",
    "            local_pop=race_key[k]  #The number of individuals of this race, sets dimensions of the matrix\n",
    "            current_boundary_index=boundary_indices[k]\n",
    "            D_matrix=np.zeros([local_pop,local_pop])  ### The i,j element of this matrix is the distance between the ith and jth elements of this racial subset\n",
    "            for i in range(local_pop):                            ### If speed becomes an issue look here this is O(N**2)\n",
    "                for j in range(i):\n",
    "                    D_matrix[i,j]=np.linalg.norm(self.data_set[current_boundary_index+i,:2]-self.data_set[current_boundary_index+j,:2])\n",
    "            D_matrix_stack.append(D_matrix)\n",
    "        self.D_matrix_stack=D_matrix_stack\n",
    "        return D_matrix_stack\n",
    "    def evaluate_sum(self,D_matrix_stack):\n",
    "        total=0\n",
    "        for i in range(len(self.D_matrix_stack)):\n",
    "            total+=np.sum(self.kernal(self.D_matrix_stack[i]))-.5*len(self.D_matrix_stack[i])**2 #Evaluate the kernal and subtract contributions from 0 entries\n",
    "        return total\n",
    "    def normalized_seg_score(self):\n",
    "        self.distance_matrices()\n",
    "        raw_seg_score=self.evaluate_sum(self.D_matrix_stack)\n",
    "        self.randomize()\n",
    "        self.distance_matrices()\n",
    "        norm_seg_score=self.evaluate_sum(self.D_matrix_stack)\n",
    "        #print(\"Normalized segregation score is \"+str(np.round(raw_seg_score/norm_seg_score,4)))\n",
    "        return(raw_seg_score/norm_seg_score)"
   ]
  },
  {
   "cell_type": "code",
   "execution_count": 288,
   "metadata": {
    "scrolled": true
   },
   "outputs": [
    {
     "name": "stdout",
     "output_type": "stream",
     "text": [
      "Input data loaded\n",
      "Normalized segregation score is 0.9483\n",
      "Input data loaded\n",
      "Normalized segregation score is 0.9684\n",
      "Input data loaded\n",
      "Normalized segregation score is 1.0062\n",
      "Input data loaded\n",
      "Normalized segregation score is 1.0898\n",
      "Input data loaded\n",
      "Normalized segregation score is 1.007\n",
      "Input data loaded\n",
      "Normalized segregation score is 1.0055\n",
      "Input data loaded\n",
      "Normalized segregation score is 1.0109\n",
      "Input data loaded\n",
      "Normalized segregation score is 1.0496\n",
      "Input data loaded\n",
      "Normalized segregation score is 1.0263\n",
      "Input data loaded\n",
      "Normalized segregation score is 1.0277\n",
      "Input data loaded\n",
      "Normalized segregation score is 1.0527\n",
      "Input data loaded\n",
      "Normalized segregation score is 0.9911\n",
      "Input data loaded\n",
      "Normalized segregation score is 1.028\n",
      "Input data loaded\n",
      "Normalized segregation score is 1.0231\n",
      "Input data loaded\n",
      "Normalized segregation score is 1.024\n",
      "Input data loaded\n",
      "Normalized segregation score is 0.9952\n",
      "Input data loaded\n",
      "Normalized segregation score is 1.0289\n",
      "Input data loaded\n",
      "Normalized segregation score is 1.0268\n",
      "Input data loaded\n",
      "Normalized segregation score is 1.0205\n",
      "Input data loaded\n",
      "Normalized segregation score is 1.0317\n",
      "Input data loaded\n",
      "Normalized segregation score is 1.037\n",
      "Input data loaded\n",
      "Normalized segregation score is 1.0239\n",
      "Input data loaded\n",
      "Normalized segregation score is 1.0307\n",
      "Input data loaded\n",
      "Normalized segregation score is 1.017\n",
      "Input data loaded\n",
      "Normalized segregation score is 1.0186\n",
      "Input data loaded\n",
      "Normalized segregation score is 1.0234\n",
      "Input data loaded\n",
      "Normalized segregation score is 1.0277\n",
      "Input data loaded\n",
      "Normalized segregation score is 1.023\n",
      "Input data loaded\n",
      "Normalized segregation score is 1.0299\n",
      "Input data loaded\n",
      "Normalized segregation score is 1.0219\n",
      "Input data loaded\n",
      "Normalized segregation score is 1.0832\n",
      "Input data loaded\n",
      "Normalized segregation score is 1.0253\n",
      "Input data loaded\n",
      "Normalized segregation score is 1.0386\n",
      "Input data loaded\n",
      "Normalized segregation score is 0.9136\n",
      "Input data loaded\n",
      "Normalized segregation score is 0.9363\n",
      "Input data loaded\n",
      "Normalized segregation score is 1.0205\n",
      "Input data loaded\n",
      "Normalized segregation score is 0.9906\n",
      "Input data loaded\n",
      "Normalized segregation score is 1.0071\n",
      "Input data loaded\n",
      "Normalized segregation score is 0.9962\n",
      "Input data loaded\n",
      "Normalized segregation score is 1.0022\n",
      "Input data loaded\n",
      "Normalized segregation score is 1.0121\n",
      "Input data loaded\n",
      "Normalized segregation score is 0.9932\n",
      "Input data loaded\n",
      "Normalized segregation score is 0.9962\n",
      "Input data loaded\n",
      "Normalized segregation score is 0.9874\n",
      "Input data loaded\n",
      "Normalized segregation score is 1.0005\n",
      "Input data loaded\n",
      "Normalized segregation score is 1.0008\n",
      "Input data loaded\n",
      "Normalized segregation score is 1.0023\n",
      "Input data loaded\n",
      "Normalized segregation score is 1.002\n",
      "Input data loaded\n",
      "Normalized segregation score is 1.0006\n",
      "Input data loaded\n",
      "Normalized segregation score is 1.0\n",
      "Input data loaded\n",
      "Normalized segregation score is 1.0023\n",
      "Input data loaded\n",
      "Normalized segregation score is 0.9991\n",
      "Input data loaded\n",
      "Normalized segregation score is 0.9997\n",
      "Input data loaded\n",
      "Normalized segregation score is 0.9991\n",
      "Input data loaded\n",
      "Normalized segregation score is 0.9999\n",
      "Input data loaded\n",
      "Normalized segregation score is 0.9997\n",
      "Input data loaded\n",
      "Normalized segregation score is 0.9995\n",
      "Input data loaded\n",
      "Normalized segregation score is 1.0003\n",
      "Input data loaded\n",
      "Normalized segregation score is 0.9999\n",
      "Input data loaded\n",
      "Normalized segregation score is 0.9991\n"
     ]
    },
    {
     "data": {
      "text/plain": [
       "[<matplotlib.lines.Line2D at 0x10a309e80>]"
      ]
     },
     "execution_count": 288,
     "metadata": {},
     "output_type": "execute_result"
    },
    {
     "data": {
      "image/png": "[encoded data removed]",
      "text/plain": [
       "<matplotlib.figure.Figure at 0x1086aa748>"
      ]
     },
     "metadata": {},
     "output_type": "display_data"
    }
   ],
   "source": [
    "nseglist=[]\n",
    "Nlist=[]\n",
    "for ii in np.arange(0,2.5,.25):\n",
    "    for l in range(3):\n",
    "        Memphis=City(input_data=lat_seg_generator(int(10**(1+ii)),num_races=3))\n",
    "        nseglist.append(Memphis.normalized_seg_score())\n",
    "        Nlist.append(10**(1+ii))\n",
    "plt.semilogx(Nlist,nseglist,'.')\n",
    "\n",
    "nseglist=[]\n",
    "Nlist=[]\n",
    "for ii in np.arange(0,2.5,.25):\n",
    "    for l in range(3):\n",
    "        Memphis=City(input_data=random_generator(int(10**(1+ii)),num_races=3))\n",
    "        nseglist.append(Memphis.normalized_seg_score())\n",
    "        Nlist.append(10**(1+ii))\n",
    "plt.semilogx(Nlist,nseglist,'.')\n",
    "\n",
    "## This shows that for N> ~10**2, we can reliably identify the segregated case, and the scaling with "
   ]
  },
  {
   "cell_type": "code",
   "execution_count": 296,
   "metadata": {},
   "outputs": [
    {
     "name": "stdout",
     "output_type": "stream",
     "text": [
      "Input data loaded\n",
      "Input data loaded\n",
      "Input data loaded\n",
      "Input data loaded\n",
      "Input data loaded\n",
      "Input data loaded\n",
      "Input data loaded\n",
      "Input data loaded\n",
      "Input data loaded\n",
      "Input data loaded\n",
      "Input data loaded\n",
      "Input data loaded\n",
      "Input data loaded\n",
      "Input data loaded\n",
      "Input data loaded\n",
      "Input data loaded\n",
      "Input data loaded\n",
      "Input data loaded\n",
      "Input data loaded\n",
      "Input data loaded\n",
      "1.00879860332 0.00213515143968\n",
      "0.999229391558 0.00120083813196\n",
      "The average measured city deviates from the null hypothesis by 7.96877739986\n"
     ]
    }
   ],
   "source": [
    "nseglist_1=[]\n",
    "nseglist_2=[]\n",
    "for i in range(10):\n",
    "    Memphis=City(input_data=lat_seg_generator(int(2*10**2),num_races=3))\n",
    "    nseglist_1.append(Memphis.normalized_seg_score())\n",
    "    Memphis=City(input_data=random_generator(int(2*10**2),num_races=3))\n",
    "    nseglist_2.append(Memphis.normalized_seg_score())\n",
    "print(np.mean(nseglist_1),np.std(nseglist_1))\n",
    "print(np.mean(nseglist_2),np.std(nseglist_2))\n",
    "print(\"The average measured city deviates from the null hypothesis by \"+str((np.mean(nseglist_1)-np.mean(nseglist_2))/np.std(nseglist_2)))\n",
    "#Here we see evidence that the measured differences are in fact statistically significant\n",
    "#Given more data we could analyze cities with confidence our model would pick up on segregation"
   ]
  },
  {
   "cell_type": "code",
   "execution_count": 290,
   "metadata": {},
   "outputs": [
    {
     "data": {
      "text/plain": [
       "3.423423423423413"
      ]
     },
     "execution_count": 290,
     "metadata": {},
     "output_type": "execute_result"
    }
   ],
   "source": [
    "(1.0265-1.0037)/.00666"
   ]
  },
  {
   "cell_type": "code",
   "execution_count": 120,
   "metadata": {},
   "outputs": [
    {
     "name": "stdout",
     "output_type": "stream",
     "text": [
      "[[ 0.71617162  0.85784325  7.        ]\n",
      " [ 8.94509235  0.78580014  8.        ]\n",
      " [ 9.34959854  0.32473638  2.        ]\n",
      " [ 2.67511062  2.19273669  6.        ]]\n",
      "[[0 1 2]\n",
      " [1 2 0]\n",
      " [1 2 0]\n",
      " [1 0 2]]\n",
      "[[ 0.71617162  0.85784325  7.        ]\n",
      " [ 8.94509235  0.78580014  8.        ]\n",
      " [ 9.34959854  0.32473638  2.        ]\n",
      " [ 2.67511062  2.19273669  6.        ]]\n"
     ]
    }
   ],
   "source": [
    "xx=np.array(lat_seg_generator(4,num_races=10))\n",
    "print(xx)\n",
    "#np.random.shuffle(xx[:,2])\n",
    "#print(xx)\n",
    "print(xx.argsort())\n",
    "print(xx)"
   ]
  },
  {
   "cell_type": "code",
   "execution_count": 122,
   "metadata": {},
   "outputs": [],
   "source": [
    "xx=xx[np.argsort(xx[:,2])]"
   ]
  },
  {
   "cell_type": "code",
   "execution_count": 137,
   "metadata": {},
   "outputs": [
    {
     "data": {
      "text/plain": [
       "array([[ 4.62558727,  8.5317958 ,  0.        ],\n",
       "       [ 4.76481943,  8.33244023,  1.        ],\n",
       "       [ 3.1704633 ,  0.93239502,  2.        ],\n",
       "       ..., \n",
       "       [ 1.39237678,  8.63422821,  0.        ],\n",
       "       [ 7.85840001,  8.66356315,  1.        ],\n",
       "       [ 2.9555872 ,  4.66122001,  1.        ]])"
      ]
     },
     "execution_count": 137,
     "metadata": {},
     "output_type": "execute_result"
    }
   ],
   "source": [
    "xx=np.array(lat_seg_generator(10**3,num_races=3))\n",
    "xx"
   ]
  },
  {
   "cell_type": "code",
   "execution_count": 131,
   "metadata": {},
   "outputs": [
    {
     "ename": "TypeError",
     "evalue": "only length-1 arrays can be converted to Python scalars",
     "output_type": "error",
     "traceback": [
      "\u001b[0;31m---------------------------------------------------------------------------\u001b[0m",
      "\u001b[0;31mTypeError\u001b[0m                                 Traceback (most recent call last)",
      "\u001b[0;32m<ipython-input-131-bfb3b3dd354e>\u001b[0m in \u001b[0;36m<module>\u001b[0;34m()\u001b[0m\n\u001b[0;32m----> 1\u001b[0;31m \u001b[0mnp\u001b[0m\u001b[0;34m.\u001b[0m\u001b[0mbincount\u001b[0m\u001b[0;34m(\u001b[0m\u001b[0mint\u001b[0m\u001b[0;34m(\u001b[0m\u001b[0mxx\u001b[0m\u001b[0;34m[\u001b[0m\u001b[0;34m:\u001b[0m\u001b[0;34m,\u001b[0m\u001b[0;34m-\u001b[0m\u001b[0;36m1\u001b[0m\u001b[0;34m]\u001b[0m\u001b[0;34m)\u001b[0m\u001b[0;34m)\u001b[0m\u001b[0;34m\u001b[0m\u001b[0m\n\u001b[0m",
      "\u001b[0;31mTypeError\u001b[0m: only length-1 arrays can be converted to Python scalars"
     ]
    }
   ],
   "source": [
    "np.bincount(int(xx[:,-1]))"
   ]
  },
  {
   "cell_type": "code",
   "execution_count": 138,
   "metadata": {},
   "outputs": [
    {
     "data": {
      "text/plain": [
       "array([261, 470, 269])"
      ]
     },
     "execution_count": 138,
     "metadata": {},
     "output_type": "execute_result"
    }
   ],
   "source": [
    "rlist=xx[:,-1]\n",
    "np.bincount([int(i) for i in rlist])"
   ]
  },
  {
   "cell_type": "code",
   "execution_count": 147,
   "metadata": {
    "collapsed": true
   },
   "outputs": [],
   "source": [
    "xx=xx[np.argsort(xx[:,2])]\n",
    "racelist=xx[:,-1]\n",
    "race_key=np.bincount([int(i) for i in racelist]) #How many of each race there are\n",
    "boundary_indices=[]  #At which indices in data_set do we change races\n",
    "for i in range(len(race_key)):\n",
    "    current_index=np.sum(race_key[:i])\n",
    "    boundary_indices.append(current_index)\n"
   ]
  },
  {
   "cell_type": "code",
   "execution_count": 148,
   "metadata": {},
   "outputs": [
    {
     "data": {
      "text/plain": [
       "array([261, 470, 269])"
      ]
     },
     "execution_count": 148,
     "metadata": {},
     "output_type": "execute_result"
    }
   ],
   "source": [
    "race_key"
   ]
  },
  {
   "cell_type": "code",
   "execution_count": 145,
   "metadata": {},
   "outputs": [
    {
     "data": {
      "text/plain": [
       "[0, 261, 731]"
      ]
     },
     "execution_count": 145,
     "metadata": {},
     "output_type": "execute_result"
    }
   ],
   "source": [
    "boundary_indices"
   ]
  },
  {
   "cell_type": "code",
   "execution_count": 255,
   "metadata": {},
   "outputs": [
    {
     "name": "stdout",
     "output_type": "stream",
     "text": [
      "None\n"
     ]
    }
   ],
   "source": [
    "data_set=np.array(lat_seg_generator(10))\n",
    "np.random.shuffle(data_set[:,2])  #Produces a shuffled data set for normalization purposes\n",
    "print(shuffled_data)"
   ]
  },
  {
   "cell_type": "code",
   "execution_count": 260,
   "metadata": {},
   "outputs": [
    {
     "data": {
      "text/plain": [
       "array([[ 4.24780178,  4.42428412,  0.        ],\n",
       "       [ 4.44283447,  6.91096645,  1.        ],\n",
       "       [ 4.89262601,  4.70204106,  1.        ],\n",
       "       [ 6.99041687,  4.49506333,  1.        ],\n",
       "       [ 1.19267968,  4.43624877,  1.        ],\n",
       "       [ 9.5073692 ,  0.97334532,  0.        ],\n",
       "       [ 7.90439966,  1.73793183,  1.        ],\n",
       "       [ 2.0682237 ,  9.13958108,  0.        ],\n",
       "       [ 9.88883575,  7.53355024,  0.        ],\n",
       "       [ 3.68492087,  1.57887754,  1.        ]])"
      ]
     },
     "execution_count": 260,
     "metadata": {},
     "output_type": "execute_result"
    }
   ],
   "source": [
    "np.random.shuffle(data_set[:,2])  #Produces a shuffled data set for normalization purposes\n",
    "\n",
    "data_set"
   ]
  },
  {
   "cell_type": "code",
   "execution_count": null,
   "metadata": {
    "collapsed": true
   },
   "outputs": [],
   "source": []
  }
 ],
 "metadata": {
  "kernelspec": {
   "display_name": "Python 3",
   "language": "python",
   "name": "python3"
  },
  "language_info": {
   "codemirror_mode": {
    "name": "ipython",
    "version": 3
   },
   "file_extension": ".py",
   "mimetype": "text/x-python",
   "name": "python",
   "nbconvert_exporter": "python",
   "pygments_lexer": "ipython3",
   "version": "3.6.1"
  }
 },
 "nbformat": 4,
 "nbformat_minor": 2
}
